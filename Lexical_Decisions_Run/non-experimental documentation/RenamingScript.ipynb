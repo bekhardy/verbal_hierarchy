{
 "cells": [
  {
   "cell_type": "code",
   "execution_count": 1,
   "id": "7d0b0331",
   "metadata": {},
   "outputs": [
    {
     "name": "stdout",
     "output_type": "stream",
     "text": [
      "Renamed '/Users/rhardy/Desktop/datapilot5/LEXICAL_DECISIONS_PILOT5/HTML1g/data/session-66ffe9cbc5c57.csv' to '/Users/rhardy/Desktop/datapilot5/LEXICAL_DECISIONS_PILOT5/HTML1g/data/HTML1g.csv'\n",
      "Renamed '/Users/rhardy/Desktop/datapilot5/LEXICAL_DECISIONS_PILOT5/HTML1h/data/session-66ffe765ba078.csv' to '/Users/rhardy/Desktop/datapilot5/LEXICAL_DECISIONS_PILOT5/HTML1h/data/HTML1h.csv'\n",
      "Renamed '/Users/rhardy/Desktop/datapilot5/LEXICAL_DECISIONS_PILOT5/HTML1f/data/session-66ffe51d92683.csv' to '/Users/rhardy/Desktop/datapilot5/LEXICAL_DECISIONS_PILOT5/HTML1f/data/HTML1f.csv'\n",
      "Renamed '/Users/rhardy/Desktop/datapilot5/LEXICAL_DECISIONS_PILOT5/HTML1a/data/session-66ffe2edd436c.csv' to '/Users/rhardy/Desktop/datapilot5/LEXICAL_DECISIONS_PILOT5/HTML1a/data/HTML1a.csv'\n",
      "Renamed '/Users/rhardy/Desktop/datapilot5/LEXICAL_DECISIONS_PILOT5/HTML1ATESTFullTrials/data/session-66ff26d610e11.csv' to '/Users/rhardy/Desktop/datapilot5/LEXICAL_DECISIONS_PILOT5/HTML1ATESTFullTrials/data/HTML1ATESTFullTrials.csv'\n",
      "Renamed '/Users/rhardy/Desktop/datapilot5/LEXICAL_DECISIONS_PILOT5/HTML1ATESTFullTrials/data/session-66ff294e8f386.csv' to '/Users/rhardy/Desktop/datapilot5/LEXICAL_DECISIONS_PILOT5/HTML1ATESTFullTrials/data/HTML1ATESTFullTrials.csv'\n",
      "Renamed '/Users/rhardy/Desktop/datapilot5/LEXICAL_DECISIONS_PILOT5/HTML1ATESTFullTrials/data/session-66ffdda482e29.csv' to '/Users/rhardy/Desktop/datapilot5/LEXICAL_DECISIONS_PILOT5/HTML1ATESTFullTrials/data/HTML1ATESTFullTrials.csv'\n",
      "Renamed '/Users/rhardy/Desktop/datapilot5/LEXICAL_DECISIONS_PILOT5/HTML1ATESTFullTrials/data/session-66ff250bb8f5b.csv' to '/Users/rhardy/Desktop/datapilot5/LEXICAL_DECISIONS_PILOT5/HTML1ATESTFullTrials/data/HTML1ATESTFullTrials.csv'\n",
      "Renamed '/Users/rhardy/Desktop/datapilot5/LEXICAL_DECISIONS_PILOT5/HTML1d/data/session-66ffe4464d7c9.csv' to '/Users/rhardy/Desktop/datapilot5/LEXICAL_DECISIONS_PILOT5/HTML1d/data/HTML1d.csv'\n",
      "Renamed '/Users/rhardy/Desktop/datapilot5/LEXICAL_DECISIONS_PILOT5/HTML1c/data/session-66ffe39cae630.csv' to '/Users/rhardy/Desktop/datapilot5/LEXICAL_DECISIONS_PILOT5/HTML1c/data/HTML1c.csv'\n",
      "Renamed '/Users/rhardy/Desktop/datapilot5/LEXICAL_DECISIONS_PILOT5/HTML1b/data/session-66ffe3823c7e3.csv' to '/Users/rhardy/Desktop/datapilot5/LEXICAL_DECISIONS_PILOT5/HTML1b/data/HTML1b.csv'\n",
      "Renamed '/Users/rhardy/Desktop/datapilot5/LEXICAL_DECISIONS_PILOT5/HTML1e/data/session-66ffe5cbe4d4b.csv' to '/Users/rhardy/Desktop/datapilot5/LEXICAL_DECISIONS_PILOT5/HTML1e/data/HTML1e.csv'\n",
      "Renaming completed.\n"
     ]
    }
   ],
   "source": [
    "import os\n",
    "\n",
    "# Base directory path\n",
    "base_dir = '/Users/rhardy/Desktop/datapilot5/LEXICAL_DECISIONS_PILOT5'\n",
    "\n",
    "# Traverse through all the folders in the base directory\n",
    "for root, dirs, files in os.walk(base_dir):\n",
    "    # Check if the directory is named 'data'\n",
    "    if os.path.basename(root) == 'data':\n",
    "        # Get the parent folder name (subfolder name)\n",
    "        parent_folder_name = os.path.basename(os.path.dirname(root))\n",
    "        \n",
    "        # Iterate over all files in the 'data' folder\n",
    "        for file_name in files:\n",
    "            # Construct the full path to the current file\n",
    "            old_file_path = os.path.join(root, file_name)\n",
    "            \n",
    "            # Construct the new file path with the parent folder name\n",
    "            new_file_name = f\"{parent_folder_name}{os.path.splitext(file_name)[1]}\"\n",
    "            new_file_path = os.path.join(root, new_file_name)\n",
    "            \n",
    "            # Rename the file\n",
    "            os.rename(old_file_path, new_file_path)\n",
    "            print(f\"Renamed '{old_file_path}' to '{new_file_path}'\")\n",
    "\n",
    "print(\"Renaming completed.\")\n"
   ]
  },
  {
   "cell_type": "code",
   "execution_count": null,
   "id": "e9725dea",
   "metadata": {},
   "outputs": [],
   "source": []
  }
 ],
 "metadata": {
  "kernelspec": {
   "display_name": "Python 3 (ipykernel)",
   "language": "python",
   "name": "python3"
  },
  "language_info": {
   "codemirror_mode": {
    "name": "ipython",
    "version": 3
   },
   "file_extension": ".py",
   "mimetype": "text/x-python",
   "name": "python",
   "nbconvert_exporter": "python",
   "pygments_lexer": "ipython3",
   "version": "3.11.2"
  }
 },
 "nbformat": 4,
 "nbformat_minor": 5
}
