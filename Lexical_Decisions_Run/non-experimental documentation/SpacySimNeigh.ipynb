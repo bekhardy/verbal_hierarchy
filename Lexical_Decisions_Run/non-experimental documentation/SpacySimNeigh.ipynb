{
 "cells": [
  {
   "cell_type": "code",
   "execution_count": 4,
   "id": "53c094db",
   "metadata": {},
   "outputs": [],
   "source": [
    "#You must have SpaCy installed to use this. \n",
    "#Note, we use the largest model of SpaCy for improved accuracy and the largest possible vectors\n",
    "\n",
    "import spacy\n",
    "import numpy as np\n",
    "from scipy.spatial import distance\n",
    "\n",
    "nlp = spacy.load('en_core_web_lg')"
   ]
  },
  {
   "cell_type": "code",
   "execution_count": 431,
   "id": "c2182c11",
   "metadata": {},
   "outputs": [
    {
     "name": "stdout",
     "output_type": "stream",
     "text": [
      "necklace necklace 1.0\n",
      "necklace jewelry 0.709219217300415\n",
      "jewelry necklace 0.709219217300415\n",
      "jewelry jewelry 1.0\n"
     ]
    }
   ],
   "source": [
    "#This script prints the similarity scores, as a matrix, of the tokens you have inserted.\n",
    "#You can use as many tokens as you would like. For the similarity scores used in the analysis, we only used two.\n",
    "#Tokens are just words\n",
    "tokens = nlp (u'necklace jewelry')\n",
    "\n",
    "for token1 in tokens:\n",
    "    for token2 in tokens:\n",
    "        print(token1.text, token2.text, token1.similarity(token2))"
   ]
  },
  {
   "cell_type": "code",
   "execution_count": 525,
   "id": "1f46a400",
   "metadata": {},
   "outputs": [
    {
     "name": "stdout",
     "output_type": "stream",
     "text": [
      "['wife', 'mywife', 'wife-', 'husband', 'wifey', 'wife--', 'daughter', \"husband'll\", 'daughter--', 'daughter-', 'husband-', 'goddaughter', 'Alewife', 'stepdaughter', 'daughtersinlaw', 'husbandman', 'granddaughter', 'alewife', 'grandaughter', 'wifely', 'husband--', 'hotwife', 'daughterinlaw', 'Stepdaughter', 'husbandly', 'Hotwife', 'Dibnah', 'widow', 'husbandmen', 'cousin', 'girlfriend', 'Granddaughter', 'sister', 'Younghusband', \"wife'll\", 'fiancée', 'Kroeber', 'wifes', 'granddaughters', \"father'll\", 'daughters', 'mother', 'father-', 'fiancées', 'fiancés', 'father`s', 'son', \"father'd\", 'niece', 'boyfriend', 'father', 'fiancé', 'sister--', 'fatherwas', 'sister-', 'stepdaughters', 'fiancè', 'fatherinlaw', 'grandmother', 'fianc', 'ladyfriend', 'father--', 'myfriend', 'girlfriend-', 'husbands', 'fiancee', 'girlfriend--', 'stepfather', 'daugher', 'fiancees', 'aunt', 'father\"s', 'stepmother', 'househusband', 'grandchild', 'Husband', 'grandmotherly', 'daughterCredit', 'fianceé', 'Befriend', \"mother'll\", 'Hafnia', 'motherinlaw', 'grandniece', 'uncle', 'mother-', 'marri', \"mother'd\", 'Middaugh', 'nephew', 'mother`s', 'DeLaughter', 'grandmothers', 'grandnephew', 'boyfriend--', 'kinswoman', 'fiancÃ', 'stepfathers', 'grandson', 'brother', 'married-', 'Lamothe', 'married--', 'brother-', 'grandfather', 'stepmothers', 'yourwife', 'CLUMSY', 'Zamarripa', 'husbandCredit', 'Goodfriend', 'mother--', 'marrieds', 'Kanarek', 'married', 'brotherinlaw', 'Wootz', 'friend', 'brother--', 'grandfatherly', 'afriend', 'Stepfather', 'befriend', 'daughterboard', 'grandmom', 'girlfriends', 'grandnephews', 'mothertucker', 'granduncle', 'sisterinlaw', 'Husin', 'mistress', 'remarried', 'marriage--', 'motherf', 'cousins', 'Grandmother', 'grandfathers', 'Kootz', 'Vriend', 'widowhood', 'fath', 'unfriend', 'fishwife', 'Awoman', 'Stepbrother', 'Boyfriend', 'Alderwoman', 'nephesh', 'alderwoman', 'husbandry', 'résister', 'riend', 'Afriend', 'Bairnsfather', 'Rusin', 'fatherly', 'daugther', 'Barnfather', 'grandsons', '-[woman', 'bestfriend', 'godmother', 'boyfriends', 'godchild', 'Madwoman', 'brotha', 'stepsister', 'Hafner', 'lovechild', 'housewife', 'stepbrother', 'Richilde', 'laywoman', 'Myrmotherula', 'fathead', 'Oldfather', 'marriage', 'herfather', 'Grandchild', 'Grandmothers', 'madwoman', 'grandchildren', 'grandaunt', 'childen', 'Cutfather', 'siste', 'brothel', 'betrothed', 'parents--', 'awoman', 'parents-', 'motherhouse', 'birthmother', 'sons', 'Daughter', 'spouse', 'Stepmother', 'henchwoman', 'widowed', 'Hogfather', 'sisters', 'granddad', 'Remarried', 'Dogfather', 'marr', 'remarriage', 'stepson', 'Bednarek', 'eldest', 'Allfather', 'forewoman', 'Schilde', 'Pennefather', 'Caunt', 'nuncle', 'Fairbrother', 'Moniece', 'godfather', 'Dorotheum', 'divorcé', 'Girlfriend', 'parents/', 'woman', 'motherlode', 'Toplady', 'Kopelson', 'granddads', 'Cousin', 'grandbaby', 'yourfriend', 'clubwoman', 'unmarried', 'Dorothea', 'sonst', 'handson', 'stepbrothers', 'Dorothee', 'marry', 'Slaughter', 'godson', 'schoolfriend', 'Rasband', 'grand-', 'godmothers', 'mom', 'Marghiloman', 'marrying', 'Grandfather', 'divorcee', 'marriageCredit', 'marries', 'unmarried.1', 'sisterly', 'grandad', 'brotherly', 'épouse', 'Godmother', 'Farebrother', 'grandmama', 'dorothea', 'Isabella', 'remarry', 'mother[bleep', 'mothefrucker', 'Dorotheos', 'Barentsz', 'grandaddy', 'brothy', 'landlady', 'Katherina', 'Graunt', 'fatherâ\\x80\\x99s', 'Dawidowicz', 'grandparents', 'elder', 'Smother', 'Unmarried', 'brothers', 'Goodchild', 'Schilder', 'Mootz', 'grandma', 'motherly', 'cavewoman', 'stepchild', 'stepfamily', 'noblewoman', 'lover', 'Remarriage', 'fathers', 'Stepsister', 'Isbister', 'Margareta', 'granddaddy', 'Lembeh', 'dad', 'nephews', 'divorcée', 'roommate', 'Schildt', 'Grandfathers', 'wives', 'Daughtery', 'Margaretta', 'Cybister', 'grandads', 'Schild', 'grandkid', 'grandfathered', 'ister', 'Doklady', 'Mariager', 'Lembeck', 'divorcees', 'marraige', 'Gentlewoman', 'gentlewoman', 'Subarnarekha', 'grandfathering', 'Kister', 'Margarette', 'Oughterard', 'marring', 'divorced', 'Margarett', 'Wolfmother', 'widowbird', 'midwife', 'fathered', 'Annah', 'heiress', 'Krister', 'Timotheos', 'Vaughters', 'Yourfather', 'couse', 'horsewoman', 'divorcées', 'grandpas', 'Hauschildt', 'Armbrister', 'Saunt', 'Strother', 'Margalef', 'Betrothed', 'widower', 'siblings', 'Jaunt', 'Stepchild']\n"
     ]
    }
   ],
   "source": [
    "#This script presents the closest 50 words within the tokens vector space. This is how we derive semantic neighbors.\n",
    "#To derive the 50 closest words, we used words that had complete vectors. Words with empty vectors are low frequency and were not used.\n",
    "#We also did not use 'compound words'. These are defined as words that appear as a neighbor but are just combinations of real English words, and not actually real English words. \n",
    "#For example, stepmother is not a compound word. However, myfriend is. Both appear within the 50 closest neighbors for the word 'wife'\n",
    "#Similarly, compound words frequently have empty vectors.\n",
    "#We also avoided proper nouns, except where the word has became a proprietary eponym. An example is within the neighbor list for aspirin, where words like Tylenol and Motrin appear.\n",
    "#Lastly, frequently, the first 50 words within the vector did not meet these requirements, so the vector size/n= number had to be expanded.\n",
    "#This is likely due to, in some part, the size of the SpaCy model used. By using the largest library, MANY more words are contained within each vector.\n",
    "#However, we did not want to introduce a confound where we changed library size to search for neighbors. \n",
    "\n",
    "your_word = \"necklace\"\n",
    "\n",
    "ms = nlp.vocab.vectors.most_similar(\n",
    "    np.asarray([nlp.vocab.vectors[nlp.vocab.strings[your_word]]]), n=50)\n",
    "words = [nlp.vocab.strings[w] for w in ms[0][0]]\n",
    "distances = ms[2]\n",
    "print(words)"
   ]
  },
  {
   "cell_type": "code",
   "execution_count": 10,
   "id": "0dd8fd02",
   "metadata": {},
   "outputs": [
    {
     "name": "stdout",
     "output_type": "stream",
     "text": [
      "frog\n"
     ]
    }
   ],
   "source": [
    "#This script will find the closest neighbor to a given word. It is nearly always the word itself. \n",
    "#So, you can use this script to just print the word 'frog' in a complicated way, if you'd like.\n",
    "input_word = \"frog\"\n",
    "p = np.array([nlp.vocab[input_word].vector])\n",
    "ids = [x for x in nlp.vocab.vectors.keys()]\n",
    "vectors = [nlp.vocab.vectors[x] for x in ids]\n",
    "vectors = np.array(vectors)\n",
    "closest_index = distance.cdist(p, vectors).argmin()\n",
    "word_id = ids[closest_index]\n",
    "output_word = nlp.vocab[word_id].text\n",
    "print(output_word)"
   ]
  },
  {
   "cell_type": "code",
   "execution_count": 12,
   "id": "f80cfdd3",
   "metadata": {},
   "outputs": [
    {
     "name": "stdout",
     "output_type": "stream",
     "text": [
      "['jewelry', 'jewellery', 'jewellry', 'jewelery', 'jewelries', 'jeweils', 'jeweller', 'jeweler', 'jewellers', 'jeweled']\n"
     ]
    }
   ],
   "source": [
    "#This script is very similar to the 2nd, in that it finds a words closest neighbors\n",
    "#The only difference is it will not be accessing it directly from the vector\n",
    "word = 'jewelry'\n",
    "nwords = 10\n",
    "doc = nlp(word)\n",
    "vector = doc.vector\n",
    "vect2word = lambda idx: nlp.vocab.strings[idx]\n",
    "print([vect2word(simword) for simword in nlp.vocab.vectors.most_similar(vector.reshape(1,-1), n=nwords)[0][0]])"
   ]
  },
  {
   "cell_type": "code",
   "execution_count": null,
   "id": "80755b6f",
   "metadata": {},
   "outputs": [],
   "source": []
  }
 ],
 "metadata": {
  "kernelspec": {
   "display_name": "Python 3 (ipykernel)",
   "language": "python",
   "name": "python3"
  },
  "language_info": {
   "codemirror_mode": {
    "name": "ipython",
    "version": 3
   },
   "file_extension": ".py",
   "mimetype": "text/x-python",
   "name": "python",
   "nbconvert_exporter": "python",
   "pygments_lexer": "ipython3",
   "version": "3.11.2"
  }
 },
 "nbformat": 4,
 "nbformat_minor": 5
}
